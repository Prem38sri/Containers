{
 "cells": [
  {
   "cell_type": "markdown",
   "metadata": {},
   "source": [
    "# Assignment a)"
   ]
  },
  {
   "cell_type": "code",
   "execution_count": null,
   "metadata": {},
   "outputs": [],
   "source": [
    "#import all required libraries\n",
    "import numpy as np\n",
    "import matplotlib as mpl\n",
    "import matplotlib.pyplot as plt\n",
    "import pandas as pd"
   ]
  },
  {
   "cell_type": "code",
   "execution_count": null,
   "metadata": {},
   "outputs": [],
   "source": [
    "# read sheet 'Canada by Citizenship from given excel ' ignoring first 20 and last 2 rows as its of no use to us\n",
    "df_canada = pd.read_excel('C:/Users/user/Downloads/canada_data.xlsx',\n",
    "                          sheet_name = 'Canada by Citizenship',\n",
    "                          skiprows = range(20),\n",
    "                          skipfooter = 2)"
   ]
  },
  {
   "cell_type": "code",
   "execution_count": null,
   "metadata": {},
   "outputs": [],
   "source": [
    "df_canada.isnull().sum()\n",
    "df_canada.describe()"
   ]
  },
  {
   "cell_type": "code",
   "execution_count": null,
   "metadata": {},
   "outputs": [],
   "source": [
    "# impute columns and rename few columns\n",
    "df_canada.drop(['Type','Coverage','AREA','REG','RegName','DEV','DevName'], axis=1, inplace=True)\n",
    "df_canada.rename(columns={'OdName':'Country', 'AreaName':'Continent'}, inplace=True)\n",
    "#df_canada\n"
   ]
  },
  {
   "cell_type": "code",
   "execution_count": null,
   "metadata": {},
   "outputs": [],
   "source": [
    "#conver columns to string and create a list of all years from 1980 to 2013\n",
    "df_canada.columns = list(map(str, df_canada.columns))\n",
    "years = list(map(str, range(1980, 2014)))\n",
    "\n",
    "# add a columns Total representing sum of immigiration by a country over 1980 - 2013\n",
    "df_canada['Total'] = df_canada.sum(axis=1)"
   ]
  },
  {
   "cell_type": "code",
   "execution_count": null,
   "metadata": {},
   "outputs": [],
   "source": [
    "#set Country as index\n",
    "df_canada.set_index('Country', inplace=True)"
   ]
  },
  {
   "cell_type": "code",
   "execution_count": null,
   "metadata": {},
   "outputs": [],
   "source": [
    "# sort dataframe by columns Total in ascending order\n",
    "df_canada.sort_values(by='Total', ascending=False, axis=0, inplace=True)"
   ]
  },
  {
   "cell_type": "code",
   "execution_count": null,
   "metadata": {},
   "outputs": [],
   "source": [
    "#filter dataframe to generate a new dataframe of only Asian contries\n",
    "\n",
    "df_canada_only_asia=df_canada[df_canada[\"Continent\"]=='Asia']\n",
    "\n",
    "df_canada_only_asia.head()\n",
    "df_canada.head()"
   ]
  },
  {
   "cell_type": "code",
   "execution_count": null,
   "metadata": {},
   "outputs": [],
   "source": [
    "#top five asian countries\n",
    "\n",
    "top5_from_asia=df_canada_only_asia.head(5)['Total']\n",
    "top5_from_asia.head()"
   ]
  },
  {
   "cell_type": "code",
   "execution_count": null,
   "metadata": {},
   "outputs": [],
   "source": [
    "#Plot top fie asian contries\n",
    "\n",
    "top5_from_asia.transpose().plot(kind='bar')\n",
    "plt.title('Top 5 Immigration Contributors from ASIA')\n",
    "plt.ylabel('Number of immigrants')\n",
    "plt.xlabel('Countries')\n",
    "plt.show()"
   ]
  },
  {
   "cell_type": "markdown",
   "metadata": {},
   "source": [
    "# Assignement 2b"
   ]
  },
  {
   "cell_type": "code",
   "execution_count": null,
   "metadata": {},
   "outputs": [],
   "source": [
    "# trend of top five asian contries from 1980 - 2013 , topmose contributer is at lower layer\n",
    "\n",
    "df_canada_only_asia[years].head(5).transpose().plot(kind='area', stacked=True,figsize=(20,10))\n",
    "\n",
    "plt.title('Immigration to Canada by Asian Country over time')\n",
    "plt.ylabel('Asian Countries')\n",
    "plt.xlabel('Number of immigrants')\n",
    "plt.legend(loc='center left', bbox_to_anchor=(1.0, 0.5))\n",
    "#df_canada[years].sum().plot(kind='bar')\n",
    "\n",
    "plt.show()"
   ]
  },
  {
   "cell_type": "markdown",
   "metadata": {},
   "source": [
    "# Assignemnt C)"
   ]
  },
  {
   "cell_type": "code",
   "execution_count": null,
   "metadata": {},
   "outputs": [],
   "source": [
    "# create a fraction datafration names df_fraction to represent fraction contribution against total immigiration over same year\n",
    "\n",
    "df_fraction = df_canada_only_asia[years].divide(df_canada[years].sum())\n",
    "df_fraction=df_fraction[years].head(5) * 100\n",
    "\n",
    "# percentage contirubution by each county, this done to represent what percentage of immigiration by each country in a year\n",
    "df_fraction = df_fraction.round(0).astype(int)\n",
    "\n"
   ]
  },
  {
   "cell_type": "code",
   "execution_count": null,
   "metadata": {},
   "outputs": [],
   "source": [
    "#plot relative contribution by top five asian countries against total immigiration(scaled to 100)\n",
    "\n",
    "df_fraction[years].transpose().plot(kind='area', stacked=True,figsize=(20,10),ylim=(0,100))\n",
    "plt.title('Immigration to Canada by Asian Country over time')\n",
    "plt.ylabel('Asian Countries')\n",
    "plt.xlabel('Number of immigrants')\n",
    "plt.legend(loc='center left', bbox_to_anchor=(1.0, 0.5))\n",
    "#df_canada[years].sum().plot(kind='bar')\n",
    "\n",
    "plt.show()"
   ]
  }
 ],
 "metadata": {
  "kernelspec": {
   "display_name": "Python 3",
   "language": "python",
   "name": "python3"
  },
  "language_info": {
   "codemirror_mode": {
    "name": "ipython",
    "version": 3
   },
   "file_extension": ".py",
   "mimetype": "text/x-python",
   "name": "python",
   "nbconvert_exporter": "python",
   "pygments_lexer": "ipython3",
   "version": "3.7.3"
  }
 },
 "nbformat": 4,
 "nbformat_minor": 2
}
