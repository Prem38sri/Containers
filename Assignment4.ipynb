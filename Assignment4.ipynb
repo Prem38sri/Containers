{
 "cells": [
  {
   "cell_type": "code",
   "execution_count": 48,
   "metadata": {},
   "outputs": [],
   "source": [
    "import pandas as pd\n",
    "import numpy as np\n",
    "\n",
    "df=pd.read_csv('C:/Users/user/Downloads/ratings.csv',sep=',')\n",
    "df.columns=[\"user_id\",\"movie_id\",\"rating\",\"timestamp\"]\n",
    "\n",
    "#finding pivot of given data to form a 2D with given data\n",
    "res=df.pivot(index=\"user_id\",columns=\"movie_id\",values=[\"rating\"]).fillna(0) \n",
    "\n",
    "# defined user and column\n",
    "#index begins from 1 in DataFrame, hence slicing will be of form [useri-1:useri]\n",
    "\n",
    "user1=1\n",
    "user2=2\n",
    "\n",
    "movieid_1=1\n",
    "movieid_2=2\n",
    "\n",
    "#methods are defined this cell\n",
    "\n",
    "def norm_vec(a):\n",
    "    p=a/np.sqrt(np.sum(a**2))\n",
    "    return p\n",
    "\n",
    "def dot_prod(a,b):\n",
    "    d=np.dot(a,b)\n",
    "    return d\n",
    "\n",
    "def norm_vec_pcc(a):\n",
    "    m=np.mean(a)\n",
    "    d=a-m\n",
    "    return d\n",
    "\n",
    "\n"
   ]
  },
  {
   "cell_type": "code",
   "execution_count": 49,
   "metadata": {},
   "outputs": [
    {
     "data": {
      "text/plain": [
       "0.07997048636299013"
      ]
     },
     "execution_count": 49,
     "metadata": {},
     "output_type": "execute_result"
    }
   ],
   "source": [
    "#Q1\n",
    "\n",
    "#Not using any diffrent user ser, using same as in example. Same is folloewd for all examples\n",
    "\n",
    "u1=pd.to_numeric(res.iloc[user1-1,user1:],errors='coerce')\n",
    "u2=pd.to_numeric(res.iloc[user2-1,user2-1:],errors='coerce')\n",
    "norm_u1=norm_vec(u1)\n",
    "norm_u2=norm_vec(u2)\n",
    "\n",
    "dot_p=dot_prod(norm_u1,norm_u2)\n",
    "dot_p\n"
   ]
  },
  {
   "cell_type": "code",
   "execution_count": 50,
   "metadata": {},
   "outputs": [
    {
     "data": {
      "text/plain": [
       "0.24094644848411045"
      ]
     },
     "execution_count": 50,
     "metadata": {},
     "output_type": "execute_result"
    }
   ],
   "source": [
    "#Q2\n",
    "\n",
    "m1=pd.to_numeric(res.iloc[:,movieid_1],errors='coerce')\n",
    "m2=pd.to_numeric(res.iloc[:,movieid_2],errors='coerce')\n",
    "\n",
    "norm_m1=norm_vec(m1)\n",
    "norm_m2=norm_vec(m2)\n",
    "\n",
    "dot_p=dot_prod(norm_m1,norm_m2)\n",
    "dot_p"
   ]
  },
  {
   "cell_type": "code",
   "execution_count": 51,
   "metadata": {},
   "outputs": [
    {
     "data": {
      "text/plain": [
       "0.06048087790146419"
      ]
     },
     "execution_count": 51,
     "metadata": {},
     "output_type": "execute_result"
    }
   ],
   "source": [
    "#Q3\n",
    "\n",
    "u1=pd.to_numeric(res.iloc[user1-1,user1:],errors='coerce')\n",
    "norm_u1=norm_vec_pcc(u1)\n",
    "norm_u1\n",
    "\n",
    "u2=pd.to_numeric(res.iloc[user2-1,user2:],errors='coerce')\n",
    "norm_u2=norm_vec_pcc(u2)\n",
    "norm_u2\n",
    "\n",
    "s_norm_u1u2=np.sum(norm_u1*norm_u2)\n",
    "s_norm_u1u1=np.sum(norm_u1**2)\n",
    "s_norm_u2u2=np.sum(norm_u2**2)\n",
    "pcc_u1u2=s_norm_u1u2/np.sqrt(s_norm_u1u1*s_norm_u2u2)\n",
    "pcc_u1u2"
   ]
  },
  {
   "cell_type": "code",
   "execution_count": 52,
   "metadata": {},
   "outputs": [
    {
     "data": {
      "text/plain": [
       "0.16958627407660798"
      ]
     },
     "execution_count": 52,
     "metadata": {},
     "output_type": "execute_result"
    }
   ],
   "source": [
    "#Q4\n",
    "\n",
    "m1=pd.to_numeric(res.iloc[:,1],errors='coerce')\n",
    "norm_m1=norm_vec_pcc(m1)\n",
    "norm_m1\n",
    "m2=pd.to_numeric(res.iloc[:,2],errors='coerce')\n",
    "norm_m2=norm_vec_pcc(m2)\n",
    "norm_m2\n",
    "s_norm_m1m2=np.sum(norm_m1*norm_m2)\n",
    "s_norm_m1m1=np.sum(norm_m1**2)\n",
    "s_norm_m2m2=np.sum(norm_m2**2)\n",
    "pcc_m1m2=s_norm_m1m2/np.sqrt(s_norm_m1m1*s_norm_m2m2)\n",
    "pcc_m1m2"
   ]
  },
  {
   "cell_type": "code",
   "execution_count": 53,
   "metadata": {},
   "outputs": [
    {
     "data": {
      "text/plain": [
       "nan"
      ]
     },
     "execution_count": 53,
     "metadata": {},
     "output_type": "execute_result"
    }
   ],
   "source": [
    "#5\n",
    "\n",
    "res_numeric=res.apply(pd.to_numeric,errors='coerce')\n",
    "\n",
    "def col_avg(df):\n",
    "    avg=df.iloc[:,1:].mean(axis=0)\n",
    "    return avg\n",
    "\n",
    "col_mean=col_avg(res_numeric)\n",
    "col_mean\n",
    "\n",
    "def norm_vec(a,col_mean):\n",
    "    b=a-col_mean\n",
    "    p=b/np.sqrt(np.sum(b**2))\n",
    "    return p\n",
    "\n",
    "norm_u1=norm_vec(u1,col_mean)\n",
    "norm_u2=norm_vec(u2,col_mean)\n",
    "dot_p=dot_prod(norm_u1,norm_u2)\n",
    "dot_p"
   ]
  },
  {
   "cell_type": "code",
   "execution_count": 54,
   "metadata": {},
   "outputs": [
    {
     "data": {
      "text/plain": [
       "0.2648606237006591"
      ]
     },
     "execution_count": 54,
     "metadata": {},
     "output_type": "execute_result"
    }
   ],
   "source": [
    "#Q6\n",
    "\n",
    "res_numeric=res.apply(pd.to_numeric,errors='coerce')\n",
    "\n",
    "def row_avg(df):\n",
    "    avg=df.iloc[:,1:].mean(axis=1)\n",
    "    return avg\n",
    "\n",
    "row_mean=row_avg(res_numeric)\n",
    "row_mean\n",
    "\n",
    "def norm_vec(a,row_mean):\n",
    "    b=a-row_mean\n",
    "    p=b/np.sqrt(np.sum(b**2))\n",
    "    return p\n",
    "\n",
    "m1=res_numeric.iloc[:,movieid_1-1]\n",
    "m2=res_numeric.iloc[:,movieid_2-1]\n",
    "norm_m1=norm_vec(m1,row_mean)\n",
    "norm_m2=norm_vec(m2,row_mean)\n",
    "dot_p=dot_prod(norm_m1,norm_m2)\n",
    "dot_p"
   ]
  },
  {
   "cell_type": "code",
   "execution_count": null,
   "metadata": {},
   "outputs": [],
   "source": []
  },
  {
   "cell_type": "code",
   "execution_count": null,
   "metadata": {},
   "outputs": [],
   "source": []
  }
 ],
 "metadata": {
  "kernelspec": {
   "display_name": "Python 3",
   "language": "python",
   "name": "python3"
  },
  "language_info": {
   "codemirror_mode": {
    "name": "ipython",
    "version": 3
   },
   "file_extension": ".py",
   "mimetype": "text/x-python",
   "name": "python",
   "nbconvert_exporter": "python",
   "pygments_lexer": "ipython3",
   "version": "3.7.3"
  }
 },
 "nbformat": 4,
 "nbformat_minor": 2
}
