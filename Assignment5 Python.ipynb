import pandas as pd
import numpy as np
from pydataset import data
from math import sqrt

ds=data('liver')

#1QA

ds[ds['dose']=="D"]
#QB

ds[(ds['ALP.B'] > 72) & (ds['TBL.B'] <= 14.736)]

#QC

ds1=ds.drop(columns="dose")
arr1=np.array(ds1)
arr1max=np.max(arr1,axis=0)
arr1min=np.min(arr1,axis=0)
diff_max_min=arr1max-arr1min

def norm_func(user,minarray,diffarray):
    nv1=((user - minarray) / diffarray)
    return nv1

user1=1
user2=2

u1=arr1[(user1 - 1):user1]
u2=arr1[(user2 - 1):user2]

norm_u1=norm_func(u1,arr1min,diff_max_min)
norm_u2=norm_func(u2,arr1min,diff_max_min)

print(norm_u1)
print(norm_u2)

euclidean_distance=sqrt(np.sum((norm_u1 - norm_u2)**2))

print(euclidean_distance)
