{
 "cells": [
  {
   "cell_type": "code",
   "execution_count": null,
   "metadata": {},
   "outputs": [],
   "source": [
    "#python programmes are from shell 2"
   ]
  },
  {
   "cell_type": "code",
   "execution_count": null,
   "metadata": {},
   "outputs": [],
   "source": [
    "1\n",
    "a)True.\n",
    "\n",
    "Let say A and B are n*n real form a vector space R\n",
    "\n",
    "then, \n",
    "\n",
    "i)addition of metrices are assosiative, commutative, their is a exsistence of identity and exsit a inverse\n",
    "ii) a(A+B)=aA+aB(a is a scaler), (a+b)A=aA+bA(a,b are scaler), a(bA)=b(aA)(a)(a and b are scaler)\n"
   ]
  },
  {
   "cell_type": "code",
   "execution_count": null,
   "metadata": {},
   "outputs": [],
   "source": [
    "1\n",
    "b)False\n",
    "\n",
    "2(x1+x2)+3(y1+y2)+5(z1+z2)=4\n",
    "(2x1+3y1+5z1)+(2x2+3y2+5z3)=4\n",
    "4+4 != 4 (as given 2x+3y+5z=4, 8 is not equal 4 and hence answer is false)"
   ]
  },
  {
   "cell_type": "code",
   "execution_count": null,
   "metadata": {},
   "outputs": [],
   "source": [
    "1\n",
    "c)True\n",
    " Linear combination produces the vector which scale along basis and lies in plane passing through origin(Explanation can be written in a paper if required)"
   ]
  },
  {
   "cell_type": "code",
   "execution_count": null,
   "metadata": {},
   "outputs": [],
   "source": [
    "1.\n",
    "d)False\n",
    "After finding the matrix reduced Echelon form, it is found that Rank of the Matrix is 1 and hence all the set are in 1 plane and not in R3"
   ]
  },
  {
   "cell_type": "code",
   "execution_count": null,
   "metadata": {},
   "outputs": [],
   "source": [
    "1.\n",
    "e)True\n",
    "After finding the matrix reduced Echelon form, it is found that Rank of the Matrix is 2 and hence it spanes in R2"
   ]
  },
  {
   "cell_type": "code",
   "execution_count": null,
   "metadata": {},
   "outputs": [],
   "source": [
    "1.\n",
    "f)False\n",
    "As the set of vectors are not linear independent"
   ]
  },
  {
   "cell_type": "code",
   "execution_count": null,
   "metadata": {},
   "outputs": [],
   "source": [
    "1.\n",
    "g)True\n",
    "(1,3)=a(1,1)+b(1,-1)=>a+b=1 and a-b=3 => a=2, b=-1"
   ]
  },
  {
   "cell_type": "code",
   "execution_count": null,
   "metadata": {},
   "outputs": [],
   "source": [
    "1.\n",
    "h)False\n",
    "\n",
    "Norm will produce a vector in R"
   ]
  },
  {
   "cell_type": "code",
   "execution_count": null,
   "metadata": {},
   "outputs": [],
   "source": [
    "1.\n",
    "i)True\n",
    "f(1,1)=f(1,0)+f(0,1)=1+0=1, change in y does not make any change in function"
   ]
  },
  {
   "cell_type": "code",
   "execution_count": null,
   "metadata": {},
   "outputs": [],
   "source": [
    "1.\n",
    "j)False\n",
    "dot product is 1 and not 0"
   ]
  },
  {
   "cell_type": "code",
   "execution_count": 6,
   "metadata": {},
   "outputs": [
    {
     "name": "stdout",
     "output_type": "stream",
     "text": [
      "output is [ 2 -1 -3]\n",
      "new matrix is [1 1 0 0 1 1]\n",
      "new matrix is [1 1 1]\n",
      "edist from normal calc is 1.4142135623730951\n",
      "edist with la module is 1.4142135623730951\n",
      "angle in redian 1.5707963267948966 and in degrees is 90.0\n"
     ]
    }
   ],
   "source": [
    "2.\n",
    "\n",
    "import numpy as np\n",
    "import numpy.linalg as la\n",
    "from math import sqrt\n",
    "\n",
    "\n",
    "\n",
    "\n",
    "#2a\n",
    "\n",
    "a=np.array([1,1,0])\n",
    "b=np.array([0,1,1])\n",
    "\n",
    "res=(2 *a ) - (3 * b)\n",
    "\n",
    "print(F\"output is { res }\")\n",
    "\n",
    "#2b\n",
    "\n",
    "c=np.concatenate((a, b))\n",
    "print(F\"new matrix is { c }\")\n",
    "\n",
    "\n",
    "#2c\n",
    "\n",
    "d=np.concatenate((a[1:2],b[1:3]))\n",
    "\n",
    "print(F\"new matrix is { d }\")\n",
    "\n",
    "#2d\n",
    "\n",
    "edist=sqrt( ((a[0] - b[0]) **2) + ((a[1] - b[1]) **2) + ((a[2] - b[2]) **2) )\n",
    "print(F\"edist from normal calc is { edist }\")\n",
    "edist1=la.norm(a-b)\n",
    "print(F\"edist with la module is { edist1 }\")\n",
    "\n",
    "#2e\n",
    "\n",
    "x=a+b\n",
    "y=a-b\n",
    "\n",
    "angle=np.arccos( (x @ y)  / ( la.norm(x) * la.norm(y) ) )\n",
    "\n",
    "angle_in_degrees=np.degrees(angle)\n",
    "\n",
    "print(F\"angle in redian { angle } and in degrees is { angle_in_degrees }\")\n",
    "\n",
    "\n"
   ]
  },
  {
   "cell_type": "code",
   "execution_count": 7,
   "metadata": {},
   "outputs": [
    {
     "name": "stdout",
     "output_type": "stream",
     "text": [
      " Output from Symmetric matrix is [[5904 2730]\n",
      " [2730 4221]]\n",
      " Output from Skew Symmetric matrix is [[-2357  -475]\n",
      " [ -475  -408]]\n",
      " Output from stochastic matrix is [[0.16543634 0.210144  ]\n",
      " [0.08902168 0.02273373]]\n"
     ]
    },
    {
     "data": {
      "text/plain": [
       "array([[-7263,  -416, -6720],\n",
       "       [ -416, -6720,     0],\n",
       "       [-6720,     0,     0]])"
      ]
     },
     "execution_count": 7,
     "metadata": {},
     "output_type": "execute_result"
    }
   ],
   "source": [
    "#set 2\n",
    "\n",
    "#3a, symmetric\n",
    "\n",
    "ns=np.random.randint(-9999,9999,size=(3,3))\n",
    "sym=(ns + ns.T) // 2\n",
    "new_mat=sym[:,[0,2]][:3:2]\n",
    "print(F\" Output from Symmetric matrix is { new_mat }\")\n",
    "\n",
    "#3b skew-symmetric\n",
    "\n",
    "ns=np.random.randint(-9999,9999,size=(3,3))\n",
    "ssym=(ns + ns.T) // 2\n",
    "new_mat=ssym[:,[0,2]][:3:2]\n",
    "print(F\" Output from Skew Symmetric matrix is { new_mat }\")\n",
    "\n",
    "#3c stochastic\n",
    "\n",
    "ns=np.random.randint(1,999999,size=(3,3))\n",
    "sum_of_ns=np.sum(ns)\n",
    "\n",
    "stochastic = ns / sum_of_ns\n",
    "#sum_of_stochastic = np.sum(stochastic)\n",
    "#print(sum_of_stochastic)\n",
    "new_mat=stochastic[:,[0,2]][:3:2]\n",
    "print(F\" Output from stochastic matrix is { new_mat }\")\n",
    "\n",
    "#4 Hankel, \n",
    "from scipy.linalg import hankel\n",
    "a=np.random.randint(-9999,9000,size=(3))\n",
    "hankel(a)\n"
   ]
  },
  {
   "cell_type": "code",
   "execution_count": 11,
   "metadata": {},
   "outputs": [
    {
     "name": "stdout",
     "output_type": "stream",
     "text": [
      "mean without using numpy.mean is [1.3333333333333333, 0.6666666666666666, 0.0, -0.6666666666666666, 1.6666666666666667] and a numpy array for the same is [ 1.33333333  0.66666667  0.         -0.66666667  1.66666667]\n",
      "standard deviation by columns is [0.4714045207910317, 1.699673171197595, 0.816496580927726, 2.3570226039551585, 2.6246692913372702]\n",
      "NP is defined [[1]\n",
      " [2]\n",
      " [1]]\n"
     ]
    }
   ],
   "source": [
    "4.\n",
    "\n",
    "a=np.array([1,-1,0,1,3,2,3,-1,-4,4,1,0,1,1,-2]).reshape(3,5)\n",
    "\n",
    "#4a \n",
    "\n",
    "list_for_mean=[]\n",
    "for itr in range(a.shape[1]):\n",
    "    b=a[:,itr:itr+1].sum() / a.shape[0]\n",
    "    list_for_mean.append(b)\n",
    "    \n",
    "mean_array=np.array(list_for_mean)\n",
    "print(F\"mean without using numpy.mean is { list_for_mean } and a numpy array for the same is { mean_array }\")\n",
    "\n",
    "\n",
    "\n",
    "###\n",
    "\n",
    "\"\"\"\n",
    "standard deviation, \n",
    "\n",
    "code with numpy\n",
    "\n",
    "std_by_colms=np.std(a,axis=0)\n",
    "\n",
    "print(std_by_colms)\n",
    "\n",
    "Below is the code for std without using numpy\n",
    "\n",
    "\"\"\"\n",
    "\n",
    "std_list=[]\n",
    "\n",
    "for itr in range(a.shape[1]):\n",
    "    sums=0\n",
    "    column=a[:,itr:itr+1]\n",
    "    mean=column.sum() / a.shape[0]\n",
    "    for x in column:\n",
    "        addition=(x-mean)**2\n",
    "        sums=sums+addition\n",
    "    std_of_colum=sqrt(sums/column.shape[0])\n",
    "    std_list.append(std_of_colum)\n",
    "\n",
    "print(F\"standard deviation by columns is { std_list }\")\n",
    "\n",
    "#4b, used norm from numpy becuase of time constraint and also annoucement was made very late, but the normal approach is used in python assignment for the same kind of work\n",
    "\n",
    "z=np.array([1,1,1])\n",
    "dist=10000000\n",
    "\n",
    "for i in range(0,a.shape[1],1):\n",
    "    p=a[:,i:i+1]\n",
    "    norm=la.norm(p-z)\n",
    "    if norm < dist:\n",
    "        dist=norm\n",
    "        nearest_point=p\n",
    "        \n",
    "print(F\"NP is defined { nearest_point }\")"
   ]
  },
  {
   "cell_type": "code",
   "execution_count": null,
   "metadata": {},
   "outputs": [],
   "source": []
  }
 ],
 "metadata": {
  "kernelspec": {
   "display_name": "Python 3",
   "language": "python",
   "name": "python3"
  },
  "language_info": {
   "codemirror_mode": {
    "name": "ipython",
    "version": 3
   },
   "file_extension": ".py",
   "mimetype": "text/x-python",
   "name": "python",
   "nbconvert_exporter": "python",
   "pygments_lexer": "ipython3",
   "version": "3.7.3"
  }
 },
 "nbformat": 4,
 "nbformat_minor": 2
}
