{
 "cells": [
  {
   "cell_type": "markdown",
   "metadata": {},
   "source": [
    "# Assignment 1.a List of players played for India(Only Team with name India is listed"
   ]
  },
  {
   "cell_type": "code",
   "execution_count": null,
   "metadata": {},
   "outputs": [],
   "source": [
    "import pandas as pd\n",
    "import numpy as np\n",
    "\n",
    "ds=pd.read_csv(\"C:/Users/user/Downloads/sdl.csv\")"
   ]
  },
  {
   "cell_type": "code",
   "execution_count": null,
   "metadata": {},
   "outputs": [],
   "source": [
    "#replace , and * from all features\n",
    "\n",
    "ds['teams']=ds['teams'].apply(lambda x: x.replace(\",\",\"\"))\n",
    "ds['first_class.highest']=ds['first_class.highest'].apply(lambda x: x.replace(\"*\",\"\"))"
   ]
  },
  {
   "cell_type": "code",
   "execution_count": null,
   "metadata": {},
   "outputs": [],
   "source": [
    "#replace -(fileds with no data with numpy NaN)\n",
    "        \n",
    "ds=ds.replace('-',np.NaN)\n",
    "ds=ds.fillna(0)"
   ]
  },
  {
   "cell_type": "code",
   "execution_count": null,
   "metadata": {},
   "outputs": [],
   "source": [
    "#players played for India\n",
    "\n",
    "ds[ds['teams']=='India']"
   ]
  },
  {
   "cell_type": "markdown",
   "metadata": {},
   "source": [
    "# Top 3 three feature to get selected in Team India"
   ]
  },
  {
   "cell_type": "code",
   "execution_count": null,
   "metadata": {},
   "outputs": [],
   "source": [
    "#addining a feature(label to cllasify , True if player has played for India and False if not)\n",
    "\n",
    "ds['Legend']=ds['teams']=='India'"
   ]
  },
  {
   "cell_type": "code",
   "execution_count": null,
   "metadata": {},
   "outputs": [],
   "source": [
    "#fature and label separation\n",
    "\n",
    "ds_feature=ds.iloc[:,4:18]\n",
    "ds_classes=ds['Legend']\n",
    "\n",
    "ds_x=np.array(ds_feature)\n",
    "ds_y=np.array(ds_classes).T"
   ]
  },
  {
   "cell_type": "code",
   "execution_count": null,
   "metadata": {},
   "outputs": [],
   "source": [
    "#Calculate variance\n",
    "\n",
    "from sklearn.feature_selection import VarianceThreshold\n",
    "\n",
    "vt=VarianceThreshold(threshold=0.15)\n",
    "vt.fit(ds_x,ds_y)\n",
    "\n",
    "feature_score=[(item,score) for item,score in zip(ds_feature,vt.variances_)]\n",
    "sorted(feature_score, key=lambda x: -x[1])"
   ]
  },
  {
   "cell_type": "code",
   "execution_count": null,
   "metadata": {},
   "outputs": [],
   "source": [
    "#List of top 3 features calculated using RandomForest classifier, random state is 100\n",
    "\n",
    "from sklearn.ensemble import RandomForestClassifier\n",
    "\n",
    "rfc=RandomForestClassifier(random_state=100)\n",
    "rfc.fit(ds_x,ds_y)\n",
    "\n",
    "important_score=rfc.feature_importances_\n",
    "\n",
    "feature_importance=[(item,score) for item,score in zip(ds_feature,important_score)]\n",
    "sorted(feature_importance,key=lambda x: -x[1])[:3]\n"
   ]
  },
  {
   "cell_type": "markdown",
   "metadata": {},
   "source": [
    "# Top 3 features using KNNImputer"
   ]
  },
  {
   "cell_type": "code",
   "execution_count": null,
   "metadata": {},
   "outputs": [],
   "source": [
    "from missingpy import KNNImputer\n",
    "import pandas as pd\n",
    "import numpy as np\n",
    "\n",
    "ds=pd.read_csv(\"C:/Users/user/Downloads/sdl.csv\")\n",
    "ds['teams']=ds['teams'].apply(lambda x: x.replace(\",\",\"\"))\n",
    "ds['first_class.highest']=ds['first_class.highest'].apply(lambda x: x.replace(\"*\",\"\"))\n",
    "ds=ds.replace('-',np.NaN)\n",
    "ds_feature=ds.iloc[:,4:18]"
   ]
  },
  {
   "cell_type": "markdown",
   "metadata": {},
   "source": [
    "# impute missing value using KNNImputer from missingpy library"
   ]
  },
  {
   "cell_type": "code",
   "execution_count": null,
   "metadata": {},
   "outputs": [],
   "source": [
    "\n",
    "imputter=KNNImputer(missing_values=np.NaN, n_neighbors=100, weights='uniform', metric='masked_euclidean', row_max_missing=0.99, col_max_missing=0.99, copy=True)\n",
    "imputted_data=imputter.fit_transform(ds_feature)"
   ]
  },
  {
   "cell_type": "code",
   "execution_count": null,
   "metadata": {},
   "outputs": [],
   "source": [
    "#variance calculation\n",
    "from sklearn.feature_selection import VarianceThreshold\n",
    "\n",
    "vt=VarianceThreshold(threshold=0.15)\n",
    "vt.fit(imputted_data,ds_y)\n",
    "\n",
    "feature_score_new=[(item,score) for item,score in zip(ds_feature.columns,vt.variances_)]\n",
    "sorted(feature_score_new, key=lambda x: -x[1])"
   ]
  },
  {
   "cell_type": "code",
   "execution_count": null,
   "metadata": {},
   "outputs": [],
   "source": [
    "#feature score calclation after \n",
    "from sklearn.ensemble import RandomForestClassifier\n",
    "\n",
    "rfc=RandomForestClassifier(random_state=100)\n",
    "rfc.fit(imputted_data,ds_y)\n",
    "\n",
    "important_score=rfc.feature_importances_\n",
    "\n",
    "feature_importance=[(item,score) for item,score in zip(ds_feature.columns,important_score)]\n",
    "sorted(feature_importance,key=lambda x: -x[1])[:3]"
   ]
  }
 ],
 "metadata": {
  "kernelspec": {
   "display_name": "Python 3",
   "language": "python",
   "name": "python3"
  },
  "language_info": {
   "codemirror_mode": {
    "name": "ipython",
    "version": 3
   },
   "file_extension": ".py",
   "mimetype": "text/x-python",
   "name": "python",
   "nbconvert_exporter": "python",
   "pygments_lexer": "ipython3",
   "version": "3.7.3"
  }
 },
 "nbformat": 4,
 "nbformat_minor": 2
}
